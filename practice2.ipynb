{
 "cells": [
  {
   "cell_type": "markdown",
   "metadata": {},
   "source": [
    "# Практическая работа №2"
   ]
  },
  {
   "cell_type": "markdown",
   "metadata": {},
   "source": [
    "## Описание работы"
   ]
  },
  {
   "cell_type": "markdown",
   "metadata": {},
   "source": [
    "В этой работе на основе лекций \"Базы данных (Models)\" я создала базу данных. БД состоит из двух таблиц. Первая таблица хранит в себе исполнителя и название песни. Вторая таблица хранит в себе данные с текстом и переводом песни исполнителя."
   ]
  },
  {
   "cell_type": "code",
   "execution_count": 3,
   "metadata": {},
   "outputs": [],
   "source": [
    "import sqlalchemy"
   ]
  },
  {
   "cell_type": "code",
   "execution_count": 4,
   "metadata": {},
   "outputs": [],
   "source": [
    "from sqlalchemy import *\n",
    "from sqlalchemy.ext.declarative import *\n",
    "from sqlalchemy.orm import *\n",
    "\n",
    "\n",
    "engine = create_engine('sqlite:///practice_pt2.db')\n",
    "Session = sessionmaker()\n",
    "Base = declarative_base(bind=engine)\n",
    "\n",
    "class User(Base):\n",
    "    __tablename__ = 'first'\n",
    "    id = Column(Integer, primary_key=True)\n",
    "    singer = Column(Text)\n",
    "    song = Column(Text)\n",
    "    \n",
    "    def __repr__(self):\n",
    "        return '{}, {}'.format(self.singer, self.song)"
   ]
  },
  {
   "cell_type": "code",
   "execution_count": 5,
   "metadata": {},
   "outputs": [],
   "source": [
    "class Data(Base):\n",
    "    __tablename__ = 'second'\n",
    "    id = Column(Integer, primary_key=True)\n",
    "    lyrics = Column(Text)\n",
    "    lytran = Column(Text)\n",
    "    song_id = Column(sqlalchemy.ForeignKey('first.id'))\n",
    "    songs = sqlalchemy.orm.relationship(\"User\", backref=\"second\")\n",
    "    \n",
    "    def __repr__(self):\n",
    "        return '{}, {}, {}'.format(self.lyrics, self.lytran, self.song_id)"
   ]
  },
  {
   "cell_type": "markdown",
   "metadata": {},
   "source": [
    "## Структура БД готова. Для примера вносим данные."
   ]
  },
  {
   "cell_type": "code",
   "execution_count": 6,
   "metadata": {},
   "outputs": [],
   "source": [
    "Base.metadata.create_all()\n",
    "DBSession = Session(bind=engine)"
   ]
  },
  {
   "cell_type": "code",
   "execution_count": 23,
   "metadata": {},
   "outputs": [
    {
     "data": {
      "text/plain": [
       "[Imagine Dragons, Bad Liar, Imagine Dragons, Bad Liar]"
      ]
     },
     "execution_count": 23,
     "metadata": {},
     "output_type": "execute_result"
    }
   ],
   "source": [
    "DBSession.query(User).all()"
   ]
  },
  {
   "cell_type": "code",
   "execution_count": 22,
   "metadata": {},
   "outputs": [
    {
     "data": {
      "text/plain": [
       "[Oh, hush, my dear, it’s been a difficult year..., Оо, тише, моя дорогая, это был трудный год..., 0,\n",
       " Oh, hush, my dear, it’s been a difficult year, Оо, тише, моя дорогая, это был трудный год, 0]"
      ]
     },
     "execution_count": 22,
     "metadata": {},
     "output_type": "execute_result"
    }
   ],
   "source": [
    "DBSession.query(Data).all()"
   ]
  },
  {
   "cell_type": "code",
   "execution_count": 19,
   "metadata": {},
   "outputs": [],
   "source": [
    "DBSession.add(User(singer=\"Imagine Dragons\", song=\"Bad Liar\"))\n",
    "DBSession.add(Data(lyrics=\"Oh, hush, my dear, it’s been a difficult year\", lytran=\"Оо, тише, моя дорогая, это был трудный год\", song_id=0))\n",
    "DBSession.commit()"
   ]
  },
  {
   "cell_type": "code",
   "execution_count": 20,
   "metadata": {},
   "outputs": [
    {
     "data": {
      "text/plain": [
       "[Imagine Dragons, Bad Liar, Imagine Dragons, Bad Liar]"
      ]
     },
     "execution_count": 20,
     "metadata": {},
     "output_type": "execute_result"
    }
   ],
   "source": [
    "DBSession.query(User).all()"
   ]
  },
  {
   "cell_type": "code",
   "execution_count": 21,
   "metadata": {},
   "outputs": [
    {
     "data": {
      "text/plain": [
       "[Oh, hush, my dear, it’s been a difficult year..., Оо, тише, моя дорогая, это был трудный год..., 0,\n",
       " Oh, hush, my dear, it’s been a difficult year, Оо, тише, моя дорогая, это был трудный год, 0]"
      ]
     },
     "execution_count": 21,
     "metadata": {},
     "output_type": "execute_result"
    }
   ],
   "source": [
    "DBSession.query(Data).all()"
   ]
  },
  {
   "cell_type": "code",
   "execution_count": null,
   "metadata": {},
   "outputs": [],
   "source": []
  }
 ],
 "metadata": {
  "kernelspec": {
   "display_name": "Python 3",
   "language": "python",
   "name": "python3"
  },
  "language_info": {
   "codemirror_mode": {
    "name": "ipython",
    "version": 3
   },
   "file_extension": ".py",
   "mimetype": "text/x-python",
   "name": "python",
   "nbconvert_exporter": "python",
   "pygments_lexer": "ipython3",
   "version": "3.6.4"
  }
 },
 "nbformat": 4,
 "nbformat_minor": 2
}
